{
  "cells": [
    {
      "cell_type": "markdown",
      "metadata": {
        "id": "view-in-github",
        "colab_type": "text"
      },
      "source": [
        "<a href=\"https://colab.research.google.com/github/she-codesstuff/tree-spices-classification/blob/main/tree_species_classify.ipynb\" target=\"_parent\"><img src=\"https://colab.research.google.com/assets/colab-badge.svg\" alt=\"Open In Colab\"/></a>"
      ]
    },
    {
      "cell_type": "code",
      "source": [
        "from google.colab import drive\n",
        "drive.mount('/content/drive')\n"
      ],
      "metadata": {
        "colab": {
          "base_uri": "https://localhost:8080/"
        },
        "id": "ATPlLAt0o-r1",
        "outputId": "cd66c0a3-d4ab-4dbc-8948-8568937d3c44"
      },
      "execution_count": 73,
      "outputs": [
        {
          "output_type": "stream",
          "name": "stdout",
          "text": [
            "Drive already mounted at /content/drive; to attempt to forcibly remount, call drive.mount(\"/content/drive\", force_remount=True).\n"
          ]
        }
      ]
    },
    {
      "cell_type": "code",
      "source": [
        "import numpy as np\n",
        "from tensorflow.keras.preprocessing.image import load_img, img_to_array\n",
        "from tensorflow.keras.applications.vgg16 import preprocess_input\n",
        "import os\n",
        "\n",
        "def load_images_from_folder(folder_path, image_size=(224, 224)):\n",
        "    images = []\n",
        "    labels = []\n",
        "    class_names = os.listdir(folder_path)\n",
        "\n",
        "    for class_name in class_names:\n",
        "        class_folder = os.path.join(folder_path, class_name)\n",
        "        if not os.path.isdir(class_folder):\n",
        "            continue\n",
        "        for img_name in os.listdir(class_folder):\n",
        "            img_path = os.path.join(class_folder, img_name)\n",
        "            try:\n",
        "                img = load_img(img_path, target_size=image_size)\n",
        "                img_array = img_to_array(img)\n",
        "                img_array = preprocess_input(img_array)\n",
        "                images.append(img_array)\n",
        "                labels.append(class_name)\n",
        "            except:\n",
        "                print(f\"Error loading image: {img_path}\")\n",
        "    return np.array(images), np.array(labels)\n",
        "\n"
      ],
      "metadata": {
        "id": "Nnjnhn4vo-0k"
      },
      "execution_count": 74,
      "outputs": []
    },
    {
      "cell_type": "code",
      "source": [
        "# Run this\n",
        "folder_path = '/content/drive/MyDrive/Tree_Species_Dataset/Tree_Species_Dataset'\n",
        "X, y = load_images_from_folder(folder_path)\n",
        "print(X.shape, y.shape)\n"
      ],
      "metadata": {
        "colab": {
          "base_uri": "https://localhost:8080/"
        },
        "id": "I3ghUybAo-3k",
        "outputId": "31f345d7-0216-4ba3-e1f9-5e6eb146ca8b"
      },
      "execution_count": 75,
      "outputs": [
        {
          "output_type": "stream",
          "name": "stdout",
          "text": [
            "Error loading image: /content/drive/MyDrive/Tree_Species_Dataset/Tree_Species_Dataset/.git/hooks\n",
            "Error loading image: /content/drive/MyDrive/Tree_Species_Dataset/Tree_Species_Dataset/.git/info\n",
            "(755, 224, 224, 3) (755,)\n"
          ]
        }
      ]
    },
    {
      "cell_type": "code",
      "source": [
        "from tensorflow.keras.applications import VGG16\n",
        "from tensorflow.keras.models import Model\n",
        "\n",
        "# Load VGG16 without top layer (used for classification)\n",
        "base_model = VGG16(weights='imagenet', include_top=False, input_shape=(224, 224, 3))\n",
        "\n",
        "# We'll use the output of the last convolutional block as features\n",
        "model = Model(inputs=base_model.input, outputs=base_model.output)\n",
        "\n",
        "# Extract features\n",
        "features = model.predict(X, batch_size=32, verbose=1)\n",
        "print(\"Extracted Features Shape:\", features.shape)  # Should be (755, 7, 7, 512)\n"
      ],
      "metadata": {
        "colab": {
          "base_uri": "https://localhost:8080/"
        },
        "id": "g_nrPvdIo-6c",
        "outputId": "edd2cea3-b512-4755-bb97-cc977ef372eb"
      },
      "execution_count": 3,
      "outputs": [
        {
          "output_type": "stream",
          "name": "stdout",
          "text": [
            "\u001b[1m24/24\u001b[0m \u001b[32m━━━━━━━━━━━━━━━━━━━━\u001b[0m\u001b[37m\u001b[0m \u001b[1m408s\u001b[0m 17s/step\n",
            "Extracted Features Shape: (755, 7, 7, 512)\n"
          ]
        }
      ]
    },
    {
      "cell_type": "code",
      "source": [
        "import os\n",
        "import cv2\n",
        "import numpy as np\n",
        "\n",
        "# Dataset path (update if needed)\n",
        "dataset_path = \"/content/drive/MyDrive/Tree_Species_Dataset/Tree_Species_Dataset\"\n",
        "\n",
        "# Prepare image and label lists\n",
        "X = []\n",
        "y = []\n",
        "class_names = []\n",
        "\n",
        "for label in sorted(os.listdir(dataset_path)):\n",
        "    label_path = os.path.join(dataset_path, label)\n",
        "    if not os.path.isdir(label_path) or label.startswith(\".\"):\n",
        "        continue\n",
        "    class_names.append(label)\n",
        "    for file in os.listdir(label_path):\n",
        "        file_path = os.path.join(label_path, file)\n",
        "        if not file.lower().endswith(('.jpg', '.jpeg', '.png')):\n",
        "            continue\n",
        "        try:\n",
        "            img = cv2.imread(file_path)\n",
        "            img = cv2.resize(img, (224, 224))\n",
        "            X.append(img)\n",
        "            y.append(label)\n",
        "        except Exception as e:\n",
        "            print(\"Error loading image:\", file_path)\n",
        "\n",
        "# Convert to numpy arrays\n",
        "X = np.array(X)\n",
        "y = np.array(y)\n",
        "print(X.shape, y.shape)\n"
      ],
      "metadata": {
        "colab": {
          "base_uri": "https://localhost:8080/"
        },
        "id": "4CQmI0Q2o-9E",
        "outputId": "4c012f62-5e14-4158-e983-39efa95f035c"
      },
      "execution_count": 2,
      "outputs": [
        {
          "output_type": "stream",
          "name": "stdout",
          "text": [
            "(755, 224, 224, 3) (755,)\n"
          ]
        }
      ]
    },
    {
      "cell_type": "code",
      "source": [
        "# Flatten features from (7, 7, 512) to (25088,)\n",
        "X_features = features.reshape(features.shape[0], -1)\n",
        "print(\"Flattened features shape:\", X_features.shape)\n"
      ],
      "metadata": {
        "colab": {
          "base_uri": "https://localhost:8080/"
        },
        "id": "31U_fIexo-_7",
        "outputId": "68787b72-c64b-46f8-c704-6d0d1c2f97ff"
      },
      "execution_count": 4,
      "outputs": [
        {
          "output_type": "stream",
          "name": "stdout",
          "text": [
            "Flattened features shape: (755, 25088)\n"
          ]
        }
      ]
    },
    {
      "cell_type": "code",
      "source": [
        "from sklearn.preprocessing import LabelEncoder\n",
        "\n",
        "le = LabelEncoder()\n",
        "y_encoded = le.fit_transform(y)\n"
      ],
      "metadata": {
        "id": "WdH3MrS8o_Ci"
      },
      "execution_count": 5,
      "outputs": []
    },
    {
      "cell_type": "code",
      "source": [
        "from sklearn.model_selection import train_test_split\n",
        "\n",
        "X_train, X_test, y_train, y_test = train_test_split(X_features, y_encoded, test_size=0.2, random_state=42)\n"
      ],
      "metadata": {
        "id": "xvU8Ea0vo_GF"
      },
      "execution_count": 6,
      "outputs": []
    },
    {
      "cell_type": "code",
      "source": [],
      "metadata": {
        "colab": {
          "base_uri": "https://localhost:8080/",
          "height": 478
        },
        "id": "4ULdhlaWrgL4",
        "outputId": "2e708fa5-58aa-4e53-fd7a-e05162b03f97"
      },
      "execution_count": 9,
      "outputs": [
        {
          "output_type": "error",
          "ename": "ValueError",
          "evalue": "Number of classes, 15, does not match size of target_names, 17. Try specifying the labels parameter",
          "traceback": [
            "\u001b[0;31m---------------------------------------------------------------------------\u001b[0m",
            "\u001b[0;31mValueError\u001b[0m                                Traceback (most recent call last)",
            "\u001b[0;32m/tmp/ipython-input-9-2212773929.py\u001b[0m in \u001b[0;36m<cell line: 0>\u001b[0;34m()\u001b[0m\n\u001b[1;32m      6\u001b[0m \u001b[0;34m\u001b[0m\u001b[0m\n\u001b[1;32m      7\u001b[0m \u001b[0my_pred\u001b[0m \u001b[0;34m=\u001b[0m \u001b[0mclf\u001b[0m\u001b[0;34m.\u001b[0m\u001b[0mpredict\u001b[0m\u001b[0;34m(\u001b[0m\u001b[0mX_test\u001b[0m\u001b[0;34m)\u001b[0m\u001b[0;34m\u001b[0m\u001b[0;34m\u001b[0m\u001b[0m\n\u001b[0;32m----> 8\u001b[0;31m \u001b[0mprint\u001b[0m\u001b[0;34m(\u001b[0m\u001b[0mclassification_report\u001b[0m\u001b[0;34m(\u001b[0m\u001b[0my_test\u001b[0m\u001b[0;34m,\u001b[0m \u001b[0my_pred\u001b[0m\u001b[0;34m,\u001b[0m \u001b[0mtarget_names\u001b[0m\u001b[0;34m=\u001b[0m\u001b[0mle\u001b[0m\u001b[0;34m.\u001b[0m\u001b[0mclasses_\u001b[0m\u001b[0;34m)\u001b[0m\u001b[0;34m)\u001b[0m\u001b[0;34m\u001b[0m\u001b[0;34m\u001b[0m\u001b[0m\n\u001b[0m",
            "\u001b[0;32m/usr/local/lib/python3.11/dist-packages/sklearn/utils/_param_validation.py\u001b[0m in \u001b[0;36mwrapper\u001b[0;34m(*args, **kwargs)\u001b[0m\n\u001b[1;32m    214\u001b[0m                     )\n\u001b[1;32m    215\u001b[0m                 ):\n\u001b[0;32m--> 216\u001b[0;31m                     \u001b[0;32mreturn\u001b[0m \u001b[0mfunc\u001b[0m\u001b[0;34m(\u001b[0m\u001b[0;34m*\u001b[0m\u001b[0margs\u001b[0m\u001b[0;34m,\u001b[0m \u001b[0;34m**\u001b[0m\u001b[0mkwargs\u001b[0m\u001b[0;34m)\u001b[0m\u001b[0;34m\u001b[0m\u001b[0;34m\u001b[0m\u001b[0m\n\u001b[0m\u001b[1;32m    217\u001b[0m             \u001b[0;32mexcept\u001b[0m \u001b[0mInvalidParameterError\u001b[0m \u001b[0;32mas\u001b[0m \u001b[0me\u001b[0m\u001b[0;34m:\u001b[0m\u001b[0;34m\u001b[0m\u001b[0;34m\u001b[0m\u001b[0m\n\u001b[1;32m    218\u001b[0m                 \u001b[0;31m# When the function is just a wrapper around an estimator, we allow\u001b[0m\u001b[0;34m\u001b[0m\u001b[0;34m\u001b[0m\u001b[0m\n",
            "\u001b[0;32m/usr/local/lib/python3.11/dist-packages/sklearn/metrics/_classification.py\u001b[0m in \u001b[0;36mclassification_report\u001b[0;34m(y_true, y_pred, labels, target_names, sample_weight, digits, output_dict, zero_division)\u001b[0m\n\u001b[1;32m   2691\u001b[0m             )\n\u001b[1;32m   2692\u001b[0m         \u001b[0;32melse\u001b[0m\u001b[0;34m:\u001b[0m\u001b[0;34m\u001b[0m\u001b[0;34m\u001b[0m\u001b[0m\n\u001b[0;32m-> 2693\u001b[0;31m             raise ValueError(\n\u001b[0m\u001b[1;32m   2694\u001b[0m                 \u001b[0;34m\"Number of classes, {0}, does not match size of \"\u001b[0m\u001b[0;34m\u001b[0m\u001b[0;34m\u001b[0m\u001b[0m\n\u001b[1;32m   2695\u001b[0m                 \u001b[0;34m\"target_names, {1}. Try specifying the labels \"\u001b[0m\u001b[0;34m\u001b[0m\u001b[0;34m\u001b[0m\u001b[0m\n",
            "\u001b[0;31mValueError\u001b[0m: Number of classes, 15, does not match size of target_names, 17. Try specifying the labels parameter"
          ]
        }
      ]
    },
    {
      "cell_type": "code",
      "source": [
        "import numpy as np\n",
        "from sklearn.metrics import classification_report\n",
        "\n",
        "# Get the unique labels in the test set\n",
        "labels_in_test = np.unique(y_test)\n",
        "\n",
        "# Get corresponding class names\n",
        "target_names_subset = le.inverse_transform(labels_in_test)\n",
        "\n",
        "# Print classification report\n",
        "print(classification_report(y_test, y_pred, labels=labels_in_test, target_names=target_names_subset))\n"
      ],
      "metadata": {
        "colab": {
          "base_uri": "https://localhost:8080/"
        },
        "id": "sJ-IstdergTt",
        "outputId": "2394f889-cd6e-4067-9fd9-aa5efeb5cf4f"
      },
      "execution_count": 8,
      "outputs": [
        {
          "output_type": "stream",
          "name": "stdout",
          "text": [
            "              precision    recall  f1-score   support\n",
            "\n",
            "    asopalav       0.00      0.00      0.00         1\n",
            "       mango       0.00      0.00      0.00         1\n",
            " motichanoti       0.50      0.33      0.40         6\n",
            "        neem       0.55      0.75      0.63        16\n",
            "     nilgiri       0.83      0.83      0.83         6\n",
            "       other       1.00      0.96      0.98        27\n",
            "   pilikaren       1.00      1.00      1.00        10\n",
            "       pipal       0.43      0.75      0.55         8\n",
            "  saptaparni       0.88      0.54      0.67        13\n",
            "     shirish       0.29      0.42      0.34        12\n",
            "       simlo       0.64      0.78      0.70         9\n",
            "     sitafal       0.60      0.43      0.50        14\n",
            "    sonmahor       0.57      0.33      0.42        12\n",
            "   sugarcane       1.00      0.88      0.93         8\n",
            "         vad       0.22      0.25      0.24         8\n",
            "\n",
            "    accuracy                           0.66       151\n",
            "   macro avg       0.57      0.55      0.55       151\n",
            "weighted avg       0.68      0.66      0.65       151\n",
            "\n"
          ]
        },
        {
          "output_type": "stream",
          "name": "stderr",
          "text": [
            "/usr/local/lib/python3.11/dist-packages/sklearn/metrics/_classification.py:1565: UndefinedMetricWarning: Precision is ill-defined and being set to 0.0 in labels with no predicted samples. Use `zero_division` parameter to control this behavior.\n",
            "  _warn_prf(average, modifier, f\"{metric.capitalize()} is\", len(result))\n",
            "/usr/local/lib/python3.11/dist-packages/sklearn/metrics/_classification.py:1565: UndefinedMetricWarning: Precision is ill-defined and being set to 0.0 in labels with no predicted samples. Use `zero_division` parameter to control this behavior.\n",
            "  _warn_prf(average, modifier, f\"{metric.capitalize()} is\", len(result))\n",
            "/usr/local/lib/python3.11/dist-packages/sklearn/metrics/_classification.py:1565: UndefinedMetricWarning: Precision is ill-defined and being set to 0.0 in labels with no predicted samples. Use `zero_division` parameter to control this behavior.\n",
            "  _warn_prf(average, modifier, f\"{metric.capitalize()} is\", len(result))\n"
          ]
        }
      ]
    },
    {
      "cell_type": "code",
      "source": [
        "from sklearn.metrics import classification_report\n",
        "import numpy as np\n",
        "\n",
        "# Get unique class labels in test set\n",
        "labels_in_test = np.unique(y_test)\n",
        "\n",
        "# Get corresponding class names\n",
        "target_names_subset = le.inverse_transform(labels_in_test)\n",
        "\n",
        "# Print report with matching labels and names\n",
        "print(classification_report(y_test, y_pred, labels=labels_in_test, target_names=target_names_subset))\n"
      ],
      "metadata": {
        "colab": {
          "base_uri": "https://localhost:8080/"
        },
        "id": "Fqhe92gPrgXN",
        "outputId": "2423f794-acd5-4c27-aa94-f7f85cb9f53f"
      },
      "execution_count": 10,
      "outputs": [
        {
          "output_type": "stream",
          "name": "stdout",
          "text": [
            "              precision    recall  f1-score   support\n",
            "\n",
            "    asopalav       0.00      0.00      0.00         1\n",
            "       mango       0.00      0.00      0.00         1\n",
            " motichanoti       0.50      0.33      0.40         6\n",
            "        neem       0.55      0.75      0.63        16\n",
            "     nilgiri       0.83      0.83      0.83         6\n",
            "       other       1.00      0.96      0.98        27\n",
            "   pilikaren       1.00      1.00      1.00        10\n",
            "       pipal       0.43      0.75      0.55         8\n",
            "  saptaparni       0.88      0.54      0.67        13\n",
            "     shirish       0.29      0.42      0.34        12\n",
            "       simlo       0.64      0.78      0.70         9\n",
            "     sitafal       0.60      0.43      0.50        14\n",
            "    sonmahor       0.57      0.33      0.42        12\n",
            "   sugarcane       1.00      0.88      0.93         8\n",
            "         vad       0.22      0.25      0.24         8\n",
            "\n",
            "    accuracy                           0.66       151\n",
            "   macro avg       0.57      0.55      0.55       151\n",
            "weighted avg       0.68      0.66      0.65       151\n",
            "\n"
          ]
        },
        {
          "output_type": "stream",
          "name": "stderr",
          "text": [
            "/usr/local/lib/python3.11/dist-packages/sklearn/metrics/_classification.py:1565: UndefinedMetricWarning: Precision is ill-defined and being set to 0.0 in labels with no predicted samples. Use `zero_division` parameter to control this behavior.\n",
            "  _warn_prf(average, modifier, f\"{metric.capitalize()} is\", len(result))\n",
            "/usr/local/lib/python3.11/dist-packages/sklearn/metrics/_classification.py:1565: UndefinedMetricWarning: Precision is ill-defined and being set to 0.0 in labels with no predicted samples. Use `zero_division` parameter to control this behavior.\n",
            "  _warn_prf(average, modifier, f\"{metric.capitalize()} is\", len(result))\n",
            "/usr/local/lib/python3.11/dist-packages/sklearn/metrics/_classification.py:1565: UndefinedMetricWarning: Precision is ill-defined and being set to 0.0 in labels with no predicted samples. Use `zero_division` parameter to control this behavior.\n",
            "  _warn_prf(average, modifier, f\"{metric.capitalize()} is\", len(result))\n"
          ]
        }
      ]
    },
    {
      "cell_type": "code",
      "source": [
        "import matplotlib.pyplot as plt\n",
        "import seaborn as sns\n",
        "from sklearn.metrics import confusion_matrix\n",
        "\n",
        "cm = confusion_matrix(y_test, y_pred, labels=labels_in_test)\n",
        "plt.figure(figsize=(12, 10))\n",
        "sns.heatmap(cm, annot=True, fmt='d',\n",
        "            xticklabels=target_names_subset,\n",
        "            yticklabels=target_names_subset,\n",
        "            cmap='Blues')\n",
        "plt.title('Confusion Matrix')\n",
        "plt.xlabel('Predicted')\n",
        "plt.ylabel('Actual')\n",
        "plt.show()\n"
      ],
      "metadata": {
        "colab": {
          "base_uri": "https://localhost:8080/",
          "height": 797
        },
        "id": "vMMy5hHqrgg-",
        "outputId": "288b3854-91ec-4bb7-f90c-202121b4b9df"
      },
      "execution_count": 12,
      "outputs": [
        {
          "output_type": "display_data",
          "data": {
            "text/plain": [
              "<Figure size 1200x1000 with 2 Axes>"
            ],
            "image/png": "[encoded data removed]"
          },
          "metadata": {}
        }
      ]
    },
    {
      "cell_type": "code",
      "source": [
        "from sklearn.metrics import classification_report\n",
        "\n",
        "print(classification_report(y_test, y_pred))\n"
      ],
      "metadata": {
        "colab": {
          "base_uri": "https://localhost:8080/"
        },
        "id": "GWWO24q0skOC",
        "outputId": "3267295b-6f25-48ba-91a0-c400a942578b"
      },
      "execution_count": 13,
      "outputs": [
        {
          "output_type": "stream",
          "name": "stdout",
          "text": [
            "              precision    recall  f1-score   support\n",
            "\n",
            "           0       0.00      0.00      0.00         1\n",
            "           3       0.00      0.00      0.00         1\n",
            "           4       0.50      0.33      0.40         6\n",
            "           5       0.55      0.75      0.63        16\n",
            "           6       0.83      0.83      0.83         6\n",
            "           7       1.00      0.96      0.98        27\n",
            "           8       1.00      1.00      1.00        10\n",
            "           9       0.43      0.75      0.55         8\n",
            "          10       0.88      0.54      0.67        13\n",
            "          11       0.29      0.42      0.34        12\n",
            "          12       0.64      0.78      0.70         9\n",
            "          13       0.60      0.43      0.50        14\n",
            "          14       0.57      0.33      0.42        12\n",
            "          15       1.00      0.88      0.93         8\n",
            "          16       0.22      0.25      0.24         8\n",
            "\n",
            "    accuracy                           0.66       151\n",
            "   macro avg       0.57      0.55      0.55       151\n",
            "weighted avg       0.68      0.66      0.65       151\n",
            "\n"
          ]
        },
        {
          "output_type": "stream",
          "name": "stderr",
          "text": [
            "/usr/local/lib/python3.11/dist-packages/sklearn/metrics/_classification.py:1565: UndefinedMetricWarning: Precision is ill-defined and being set to 0.0 in labels with no predicted samples. Use `zero_division` parameter to control this behavior.\n",
            "  _warn_prf(average, modifier, f\"{metric.capitalize()} is\", len(result))\n",
            "/usr/local/lib/python3.11/dist-packages/sklearn/metrics/_classification.py:1565: UndefinedMetricWarning: Precision is ill-defined and being set to 0.0 in labels with no predicted samples. Use `zero_division` parameter to control this behavior.\n",
            "  _warn_prf(average, modifier, f\"{metric.capitalize()} is\", len(result))\n",
            "/usr/local/lib/python3.11/dist-packages/sklearn/metrics/_classification.py:1565: UndefinedMetricWarning: Precision is ill-defined and being set to 0.0 in labels with no predicted samples. Use `zero_division` parameter to control this behavior.\n",
            "  _warn_prf(average, modifier, f\"{metric.capitalize()} is\", len(result))\n"
          ]
        }
      ]
    },
    {
      "cell_type": "code",
      "source": [
        "import numpy as np\n",
        "import matplotlib.pyplot as plt\n",
        "\n",
        "unique, counts = np.unique(y_train, return_counts=True)\n",
        "plt.bar(unique, counts)\n",
        "plt.xlabel('Class Label')\n",
        "plt.ylabel('Count')\n",
        "plt.title('Training Set Class Distribution')\n",
        "plt.show()\n"
      ],
      "metadata": {
        "colab": {
          "base_uri": "https://localhost:8080/",
          "height": 472
        },
        "id": "643Sz_StskRe",
        "outputId": "30820ab5-e088-4c3c-d652-574f93a43526"
      },
      "execution_count": 14,
      "outputs": [
        {
          "output_type": "display_data",
          "data": {
            "text/plain": [
              "<Figure size 640x480 with 1 Axes>"
            ],
            "image/png": "[encoded data removed]"
          },
          "metadata": {}
        }
      ]
    },
    {
      "cell_type": "code",
      "source": [
        "import numpy as np\n",
        "\n",
        "print(\"Unique classes in y_test:\", np.unique(y_test))\n",
        "print(\"Number of classes in y_test:\", len(np.unique(y_test)))\n"
      ],
      "metadata": {
        "colab": {
          "base_uri": "https://localhost:8080/"
        },
        "id": "YBLM85x9skw5",
        "outputId": "130ebbac-7c8b-4cb1-f72c-13b058d1fc43"
      },
      "execution_count": 15,
      "outputs": [
        {
          "output_type": "stream",
          "name": "stdout",
          "text": [
            "Unique classes in y_test: [ 0  3  4  5  6  7  8  9 10 11 12 13 14 15 16]\n",
            "Number of classes in y_test: 15\n"
          ]
        }
      ]
    },
    {
      "cell_type": "code",
      "source": [
        "from sklearn.metrics import classification_report\n",
        "\n",
        "# Match labels manually\n",
        "present_classes = np.unique(y_test)\n",
        "target_names = le.classes_[present_classes]  # Only use names of present labels\n",
        "\n",
        "print(classification_report(y_test, y_pred, target_names=target_names))\n"
      ],
      "metadata": {
        "colab": {
          "base_uri": "https://localhost:8080/"
        },
        "id": "e94hveiZs6T0",
        "outputId": "9687a6f1-1f21-4d66-9fc2-1cdd3df52c74"
      },
      "execution_count": 16,
      "outputs": [
        {
          "output_type": "stream",
          "name": "stdout",
          "text": [
            "              precision    recall  f1-score   support\n",
            "\n",
            "    asopalav       0.00      0.00      0.00         1\n",
            "       mango       0.00      0.00      0.00         1\n",
            " motichanoti       0.50      0.33      0.40         6\n",
            "        neem       0.55      0.75      0.63        16\n",
            "     nilgiri       0.83      0.83      0.83         6\n",
            "       other       1.00      0.96      0.98        27\n",
            "   pilikaren       1.00      1.00      1.00        10\n",
            "       pipal       0.43      0.75      0.55         8\n",
            "  saptaparni       0.88      0.54      0.67        13\n",
            "     shirish       0.29      0.42      0.34        12\n",
            "       simlo       0.64      0.78      0.70         9\n",
            "     sitafal       0.60      0.43      0.50        14\n",
            "    sonmahor       0.57      0.33      0.42        12\n",
            "   sugarcane       1.00      0.88      0.93         8\n",
            "         vad       0.22      0.25      0.24         8\n",
            "\n",
            "    accuracy                           0.66       151\n",
            "   macro avg       0.57      0.55      0.55       151\n",
            "weighted avg       0.68      0.66      0.65       151\n",
            "\n"
          ]
        },
        {
          "output_type": "stream",
          "name": "stderr",
          "text": [
            "/usr/local/lib/python3.11/dist-packages/sklearn/metrics/_classification.py:1565: UndefinedMetricWarning: Precision is ill-defined and being set to 0.0 in labels with no predicted samples. Use `zero_division` parameter to control this behavior.\n",
            "  _warn_prf(average, modifier, f\"{metric.capitalize()} is\", len(result))\n",
            "/usr/local/lib/python3.11/dist-packages/sklearn/metrics/_classification.py:1565: UndefinedMetricWarning: Precision is ill-defined and being set to 0.0 in labels with no predicted samples. Use `zero_division` parameter to control this behavior.\n",
            "  _warn_prf(average, modifier, f\"{metric.capitalize()} is\", len(result))\n",
            "/usr/local/lib/python3.11/dist-packages/sklearn/metrics/_classification.py:1565: UndefinedMetricWarning: Precision is ill-defined and being set to 0.0 in labels with no predicted samples. Use `zero_division` parameter to control this behavior.\n",
            "  _warn_prf(average, modifier, f\"{metric.capitalize()} is\", len(result))\n"
          ]
        }
      ]
    },
    {
      "cell_type": "code",
      "source": [
        "print(classification_report(y_test, y_pred,\n",
        "                            labels=present_classes,\n",
        "                            target_names=le.classes_[present_classes]))\n"
      ],
      "metadata": {
        "colab": {
          "base_uri": "https://localhost:8080/"
        },
        "id": "YyQddA3Bs6f4",
        "outputId": "552e2969-3643-4814-b6e4-abacb55924bc"
      },
      "execution_count": 17,
      "outputs": [
        {
          "output_type": "stream",
          "name": "stdout",
          "text": [
            "              precision    recall  f1-score   support\n",
            "\n",
            "    asopalav       0.00      0.00      0.00         1\n",
            "       mango       0.00      0.00      0.00         1\n",
            " motichanoti       0.50      0.33      0.40         6\n",
            "        neem       0.55      0.75      0.63        16\n",
            "     nilgiri       0.83      0.83      0.83         6\n",
            "       other       1.00      0.96      0.98        27\n",
            "   pilikaren       1.00      1.00      1.00        10\n",
            "       pipal       0.43      0.75      0.55         8\n",
            "  saptaparni       0.88      0.54      0.67        13\n",
            "     shirish       0.29      0.42      0.34        12\n",
            "       simlo       0.64      0.78      0.70         9\n",
            "     sitafal       0.60      0.43      0.50        14\n",
            "    sonmahor       0.57      0.33      0.42        12\n",
            "   sugarcane       1.00      0.88      0.93         8\n",
            "         vad       0.22      0.25      0.24         8\n",
            "\n",
            "    accuracy                           0.66       151\n",
            "   macro avg       0.57      0.55      0.55       151\n",
            "weighted avg       0.68      0.66      0.65       151\n",
            "\n"
          ]
        },
        {
          "output_type": "stream",
          "name": "stderr",
          "text": [
            "/usr/local/lib/python3.11/dist-packages/sklearn/metrics/_classification.py:1565: UndefinedMetricWarning: Precision is ill-defined and being set to 0.0 in labels with no predicted samples. Use `zero_division` parameter to control this behavior.\n",
            "  _warn_prf(average, modifier, f\"{metric.capitalize()} is\", len(result))\n",
            "/usr/local/lib/python3.11/dist-packages/sklearn/metrics/_classification.py:1565: UndefinedMetricWarning: Precision is ill-defined and being set to 0.0 in labels with no predicted samples. Use `zero_division` parameter to control this behavior.\n",
            "  _warn_prf(average, modifier, f\"{metric.capitalize()} is\", len(result))\n",
            "/usr/local/lib/python3.11/dist-packages/sklearn/metrics/_classification.py:1565: UndefinedMetricWarning: Precision is ill-defined and being set to 0.0 in labels with no predicted samples. Use `zero_division` parameter to control this behavior.\n",
            "  _warn_prf(average, modifier, f\"{metric.capitalize()} is\", len(result))\n"
          ]
        }
      ]
    },
    {
      "cell_type": "code",
      "source": [],
      "metadata": {
        "id": "JYV54emis6jZ"
      },
      "execution_count": null,
      "outputs": []
    }
  ],
  "metadata": {
    "colab": {
      "provenance": [],
      "authorship_tag": "ABX9TyMMDmOierrDEIOvNKw0AsRM",
      "include_colab_link": true
    },
    "kernelspec": {
      "display_name": "Python 3",
      "name": "python3"
    },
    "language_info": {
      "name": "python"
    }
  },
  "nbformat": 4,
  "nbformat_minor": 0
}